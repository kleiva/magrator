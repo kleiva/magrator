{
  "nbformat": 4,
  "nbformat_minor": 0,
  "metadata": {
    "colab": {
      "provenance": [],
      "toc_visible": true,
      "authorship_tag": "ABX9TyOSCHR4B9bHmrkkg/oIpIfs",
      "include_colab_link": true
    },
    "kernelspec": {
      "name": "python3",
      "display_name": "Python 3"
    }
  },
  "cells": [
    {
      "cell_type": "markdown",
      "metadata": {
        "id": "view-in-github",
        "colab_type": "text"
      },
      "source": [
        "<a href=\"https://colab.research.google.com/github/kleiva/magrator/blob/main/Drawdowns.ipynb\" target=\"_parent\"><img src=\"https://colab.research.google.com/assets/colab-badge.svg\" alt=\"Open In Colab\"/></a>"
      ]
    },
    {
      "cell_type": "code",
      "metadata": {
        "colab": {
          "base_uri": "https://localhost:8080/"
        },
        "id": "Vhn64nhvC1CG",
        "outputId": "356b343e-98dd-474e-b0b4-f40ab4b9bd1b"
      },
      "source": [
        "from google.colab import drive\n",
        "drive.mount(\"/content/drive/\")"
      ],
      "execution_count": null,
      "outputs": [
        {
          "output_type": "stream",
          "text": [
            "Mounted at /content/drive/\n"
          ],
          "name": "stdout"
        }
      ]
    },
    {
      "cell_type": "code",
      "metadata": {
        "colab": {
          "base_uri": "https://localhost:8080/"
        },
        "id": "bXrfpJYUFvFA",
        "outputId": "030ceb1f-96ab-4b5f-f6c0-0f6345420fc4"
      },
      "source": [
        "import pandas as pd\n",
        "dataen = pd.read_csv('drive/My Drive/Mathieu/Colab Notebooks/TOTAL_2020-06-23.txt', sep='\\t')\n",
        "#pd.read_csv(\"TOTAL_2020-06-23.txt\", sep='\\t')\n",
        "print(dataen.head)"
      ],
      "execution_count": null,
      "outputs": [
        {
          "output_type": "stream",
          "text": [
            "<bound method NDFrame.head of                  date     ouv    haut  ...      vol  devise  Unnamed: 7\n",
            "0    23/06/2020 09:00  35.620  35.635  ...   104324     EUR         NaN\n",
            "1    23/06/2020 09:02  35.475  35.490  ...    11870     EUR         NaN\n",
            "2    23/06/2020 09:04  35.420  35.440  ...     3871     EUR         NaN\n",
            "3    23/06/2020 09:06  35.280  35.395  ...    16230     EUR         NaN\n",
            "4    23/06/2020 09:08  35.490  35.545  ...    11423     EUR         NaN\n",
            "..                ...     ...     ...  ...      ...     ...         ...\n",
            "253  23/06/2020 17:26  36.225  36.250  ...    23199     EUR         NaN\n",
            "254  23/06/2020 17:28  36.245  36.245  ...    39417     EUR         NaN\n",
            "255  23/06/2020 17:30  36.230  36.260  ...    39694     EUR         NaN\n",
            "256  23/06/2020 17:32  36.230  36.260  ...    39694     EUR         NaN\n",
            "257  23/06/2020 17:34  36.185  36.185  ...  1709413     EUR         NaN\n",
            "\n",
            "[258 rows x 8 columns]>\n"
          ],
          "name": "stdout"
        }
      ]
    },
    {
      "cell_type": "code",
      "metadata": {
        "id": "2jW2bsjEddCZ"
      },
      "source": [],
      "execution_count": null,
      "outputs": []
    },
    {
      "cell_type": "code",
      "metadata": {
        "colab": {
          "base_uri": "https://localhost:8080/",
          "height": 282
        },
        "id": "hOMzRMNEJTqz",
        "outputId": "3babb113-67ae-4a73-d8c2-072c3a450c51"
      },
      "source": [
        "import matplotlib.pyplot as plt\n",
        "plt.plot(dataen['bas'])\n",
        "plt.plot(dataen['haut'])"
      ],
      "execution_count": null,
      "outputs": [
        {
          "output_type": "execute_result",
          "data": {
            "text/plain": [
              "[<matplotlib.lines.Line2D at 0x7fdbf3a2bc18>]"
            ]
          },
          "metadata": {
            "tags": []
          },
          "execution_count": 14
        },
        {
          "output_type": "display_data",
          "data": {
            "image/png": "[encoded data removed]",
            "text/plain": [
              "<Figure size 432x288 with 1 Axes>"
            ]
          },
          "metadata": {
            "tags": [],
            "needs_background": "light"
          }
        }
      ]
    },
    {
      "cell_type": "code",
      "metadata": {
        "colab": {
          "base_uri": "https://localhost:8080/"
        },
        "id": "Kg8XeQVdKkOC",
        "outputId": "7a4e018b-e204-4d3f-ee4d-84eaf565858c"
      },
      "source": [
        "data.index"
      ],
      "execution_count": null,
      "outputs": [
        {
          "output_type": "execute_result",
          "data": {
            "text/plain": [
              "RangeIndex(start=0, stop=258, step=1)"
            ]
          },
          "metadata": {
            "tags": []
          },
          "execution_count": 5
        }
      ]
    },
    {
      "cell_type": "code",
      "metadata": {
        "id": "Jjmm4_7ndfhs"
      },
      "source": [
        "retsbas = dataen['bas']/100\n",
        "retshaut = dataen['haut']/100"
      ],
      "execution_count": null,
      "outputs": []
    },
    {
      "cell_type": "code",
      "metadata": {
        "colab": {
          "base_uri": "https://localhost:8080/",
          "height": 282
        },
        "id": "baD4y2QTeClN",
        "outputId": "1c795177-3dbb-4887-a2ad-c2d42ff314a9"
      },
      "source": [
        "plt.plot(retsbas)\n",
        "plt.plot(retshaut)\n"
      ],
      "execution_count": null,
      "outputs": [
        {
          "output_type": "execute_result",
          "data": {
            "text/plain": [
              "[<matplotlib.lines.Line2D at 0x7fdbf3ce4630>]"
            ]
          },
          "metadata": {
            "tags": []
          },
          "execution_count": 10
        },
        {
          "output_type": "display_data",
          "data": {
            "image/png": "[encoded data removed]",
            "text/plain": [
              "<Figure size 432x288 with 1 Axes>"
            ]
          },
          "metadata": {
            "tags": [],
            "needs_background": "light"
          }
        }
      ]
    },
    {
      "cell_type": "code",
      "metadata": {
        "colab": {
          "base_uri": "https://localhost:8080/"
        },
        "id": "W_yJ9EfLe2S8",
        "outputId": "52a87e31-99ac-4c49-e6c2-b9aaa936b20b"
      },
      "source": [
        "retsbas.index"
      ],
      "execution_count": null,
      "outputs": [
        {
          "output_type": "execute_result",
          "data": {
            "text/plain": [
              "RangeIndex(start=0, stop=258, step=1)"
            ]
          },
          "metadata": {
            "tags": []
          },
          "execution_count": 11
        }
      ]
    },
    {
      "cell_type": "code",
      "metadata": {
        "colab": {
          "base_uri": "https://localhost:8080/",
          "height": 203
        },
        "id": "T0EdvuAVg6MQ",
        "outputId": "9c652310-30e3-4bac-a73a-a21aaac2b089"
      },
      "source": [
        "df = pd.DataFrame(dataen['date'].str.split(' ', 1).tolist(), columns=['date', 'temps'])\n",
        "df.head()\n"
      ],
      "execution_count": null,
      "outputs": [
        {
          "output_type": "execute_result",
          "data": {
            "text/html": [
              "<div>\n",
              "<style scoped>\n",
              "    .dataframe tbody tr th:only-of-type {\n",
              "        vertical-align: middle;\n",
              "    }\n",
              "\n",
              "    .dataframe tbody tr th {\n",
              "        vertical-align: top;\n",
              "    }\n",
              "\n",
              "    .dataframe thead th {\n",
              "        text-align: right;\n",
              "    }\n",
              "</style>\n",
              "<table border=\"1\" class=\"dataframe\">\n",
              "  <thead>\n",
              "    <tr style=\"text-align: right;\">\n",
              "      <th></th>\n",
              "      <th>date</th>\n",
              "      <th>temps</th>\n",
              "    </tr>\n",
              "  </thead>\n",
              "  <tbody>\n",
              "    <tr>\n",
              "      <th>0</th>\n",
              "      <td>23/06/2020</td>\n",
              "      <td>09:00</td>\n",
              "    </tr>\n",
              "    <tr>\n",
              "      <th>1</th>\n",
              "      <td>23/06/2020</td>\n",
              "      <td>09:02</td>\n",
              "    </tr>\n",
              "    <tr>\n",
              "      <th>2</th>\n",
              "      <td>23/06/2020</td>\n",
              "      <td>09:04</td>\n",
              "    </tr>\n",
              "    <tr>\n",
              "      <th>3</th>\n",
              "      <td>23/06/2020</td>\n",
              "      <td>09:06</td>\n",
              "    </tr>\n",
              "    <tr>\n",
              "      <th>4</th>\n",
              "      <td>23/06/2020</td>\n",
              "      <td>09:08</td>\n",
              "    </tr>\n",
              "  </tbody>\n",
              "</table>\n",
              "</div>"
            ],
            "text/plain": [
              "         date  temps\n",
              "0  23/06/2020  09:00\n",
              "1  23/06/2020  09:02\n",
              "2  23/06/2020  09:04\n",
              "3  23/06/2020  09:06\n",
              "4  23/06/2020  09:08"
            ]
          },
          "metadata": {
            "tags": []
          },
          "execution_count": 24
        }
      ]
    },
    {
      "cell_type": "code",
      "metadata": {
        "colab": {
          "base_uri": "https://localhost:8080/",
          "height": 203
        },
        "id": "9BW3BtOBkjP9",
        "outputId": "03248168-801a-4be1-da7e-ad0f58334c38"
      },
      "source": [
        "dataen[['date', 'temps'] ]= dataen['date'].str.split(' ', expand = True)\n",
        "dataen.head()"
      ],
      "execution_count": null,
      "outputs": [
        {
          "output_type": "execute_result",
          "data": {
            "text/html": [
              "<div>\n",
              "<style scoped>\n",
              "    .dataframe tbody tr th:only-of-type {\n",
              "        vertical-align: middle;\n",
              "    }\n",
              "\n",
              "    .dataframe tbody tr th {\n",
              "        vertical-align: top;\n",
              "    }\n",
              "\n",
              "    .dataframe thead th {\n",
              "        text-align: right;\n",
              "    }\n",
              "</style>\n",
              "<table border=\"1\" class=\"dataframe\">\n",
              "  <thead>\n",
              "    <tr style=\"text-align: right;\">\n",
              "      <th></th>\n",
              "      <th>date</th>\n",
              "      <th>ouv</th>\n",
              "      <th>haut</th>\n",
              "      <th>bas</th>\n",
              "      <th>clot</th>\n",
              "      <th>vol</th>\n",
              "      <th>devise</th>\n",
              "      <th>Unnamed: 7</th>\n",
              "      <th>data</th>\n",
              "      <th>temps</th>\n",
              "    </tr>\n",
              "  </thead>\n",
              "  <tbody>\n",
              "    <tr>\n",
              "      <th>0</th>\n",
              "      <td>23/06/2020</td>\n",
              "      <td>35.620</td>\n",
              "      <td>35.635</td>\n",
              "      <td>35.405</td>\n",
              "      <td>35.480</td>\n",
              "      <td>104324</td>\n",
              "      <td>EUR</td>\n",
              "      <td>NaN</td>\n",
              "      <td>23/06/2020</td>\n",
              "      <td>09:00</td>\n",
              "    </tr>\n",
              "    <tr>\n",
              "      <th>1</th>\n",
              "      <td>23/06/2020</td>\n",
              "      <td>35.475</td>\n",
              "      <td>35.490</td>\n",
              "      <td>35.435</td>\n",
              "      <td>35.465</td>\n",
              "      <td>11870</td>\n",
              "      <td>EUR</td>\n",
              "      <td>NaN</td>\n",
              "      <td>23/06/2020</td>\n",
              "      <td>09:02</td>\n",
              "    </tr>\n",
              "    <tr>\n",
              "      <th>2</th>\n",
              "      <td>23/06/2020</td>\n",
              "      <td>35.420</td>\n",
              "      <td>35.440</td>\n",
              "      <td>35.410</td>\n",
              "      <td>35.410</td>\n",
              "      <td>3871</td>\n",
              "      <td>EUR</td>\n",
              "      <td>NaN</td>\n",
              "      <td>23/06/2020</td>\n",
              "      <td>09:04</td>\n",
              "    </tr>\n",
              "    <tr>\n",
              "      <th>3</th>\n",
              "      <td>23/06/2020</td>\n",
              "      <td>35.280</td>\n",
              "      <td>35.395</td>\n",
              "      <td>35.250</td>\n",
              "      <td>35.385</td>\n",
              "      <td>16230</td>\n",
              "      <td>EUR</td>\n",
              "      <td>NaN</td>\n",
              "      <td>23/06/2020</td>\n",
              "      <td>09:06</td>\n",
              "    </tr>\n",
              "    <tr>\n",
              "      <th>4</th>\n",
              "      <td>23/06/2020</td>\n",
              "      <td>35.490</td>\n",
              "      <td>35.545</td>\n",
              "      <td>35.475</td>\n",
              "      <td>35.540</td>\n",
              "      <td>11423</td>\n",
              "      <td>EUR</td>\n",
              "      <td>NaN</td>\n",
              "      <td>23/06/2020</td>\n",
              "      <td>09:08</td>\n",
              "    </tr>\n",
              "  </tbody>\n",
              "</table>\n",
              "</div>"
            ],
            "text/plain": [
              "         date     ouv    haut     bas  ...  devise  Unnamed: 7        data  temps\n",
              "0  23/06/2020  35.620  35.635  35.405  ...     EUR         NaN  23/06/2020  09:00\n",
              "1  23/06/2020  35.475  35.490  35.435  ...     EUR         NaN  23/06/2020  09:02\n",
              "2  23/06/2020  35.420  35.440  35.410  ...     EUR         NaN  23/06/2020  09:04\n",
              "3  23/06/2020  35.280  35.395  35.250  ...     EUR         NaN  23/06/2020  09:06\n",
              "4  23/06/2020  35.490  35.545  35.475  ...     EUR         NaN  23/06/2020  09:08\n",
              "\n",
              "[5 rows x 10 columns]"
            ]
          },
          "metadata": {
            "tags": []
          },
          "execution_count": 30
        }
      ]
    },
    {
      "cell_type": "code",
      "metadata": {
        "colab": {
          "base_uri": "https://localhost:8080/",
          "height": 448
        },
        "id": "OO5Fk5yOmSD2",
        "outputId": "983226d6-b26b-457d-bf34-fc7dcb3b6883"
      },
      "source": [
        "dataen.set_index('temps')"
      ],
      "execution_count": null,
      "outputs": [
        {
          "output_type": "execute_result",
          "data": {
            "text/html": [
              "<div>\n",
              "<style scoped>\n",
              "    .dataframe tbody tr th:only-of-type {\n",
              "        vertical-align: middle;\n",
              "    }\n",
              "\n",
              "    .dataframe tbody tr th {\n",
              "        vertical-align: top;\n",
              "    }\n",
              "\n",
              "    .dataframe thead th {\n",
              "        text-align: right;\n",
              "    }\n",
              "</style>\n",
              "<table border=\"1\" class=\"dataframe\">\n",
              "  <thead>\n",
              "    <tr style=\"text-align: right;\">\n",
              "      <th></th>\n",
              "      <th>date</th>\n",
              "      <th>ouv</th>\n",
              "      <th>haut</th>\n",
              "      <th>bas</th>\n",
              "      <th>clot</th>\n",
              "      <th>vol</th>\n",
              "      <th>devise</th>\n",
              "      <th>Unnamed: 7</th>\n",
              "      <th>data</th>\n",
              "    </tr>\n",
              "    <tr>\n",
              "      <th>temps</th>\n",
              "      <th></th>\n",
              "      <th></th>\n",
              "      <th></th>\n",
              "      <th></th>\n",
              "      <th></th>\n",
              "      <th></th>\n",
              "      <th></th>\n",
              "      <th></th>\n",
              "      <th></th>\n",
              "    </tr>\n",
              "  </thead>\n",
              "  <tbody>\n",
              "    <tr>\n",
              "      <th>09:00</th>\n",
              "      <td>23/06/2020</td>\n",
              "      <td>35.620</td>\n",
              "      <td>35.635</td>\n",
              "      <td>35.405</td>\n",
              "      <td>35.480</td>\n",
              "      <td>104324</td>\n",
              "      <td>EUR</td>\n",
              "      <td>NaN</td>\n",
              "      <td>23/06/2020</td>\n",
              "    </tr>\n",
              "    <tr>\n",
              "      <th>09:02</th>\n",
              "      <td>23/06/2020</td>\n",
              "      <td>35.475</td>\n",
              "      <td>35.490</td>\n",
              "      <td>35.435</td>\n",
              "      <td>35.465</td>\n",
              "      <td>11870</td>\n",
              "      <td>EUR</td>\n",
              "      <td>NaN</td>\n",
              "      <td>23/06/2020</td>\n",
              "    </tr>\n",
              "    <tr>\n",
              "      <th>09:04</th>\n",
              "      <td>23/06/2020</td>\n",
              "      <td>35.420</td>\n",
              "      <td>35.440</td>\n",
              "      <td>35.410</td>\n",
              "      <td>35.410</td>\n",
              "      <td>3871</td>\n",
              "      <td>EUR</td>\n",
              "      <td>NaN</td>\n",
              "      <td>23/06/2020</td>\n",
              "    </tr>\n",
              "    <tr>\n",
              "      <th>09:06</th>\n",
              "      <td>23/06/2020</td>\n",
              "      <td>35.280</td>\n",
              "      <td>35.395</td>\n",
              "      <td>35.250</td>\n",
              "      <td>35.385</td>\n",
              "      <td>16230</td>\n",
              "      <td>EUR</td>\n",
              "      <td>NaN</td>\n",
              "      <td>23/06/2020</td>\n",
              "    </tr>\n",
              "    <tr>\n",
              "      <th>09:08</th>\n",
              "      <td>23/06/2020</td>\n",
              "      <td>35.490</td>\n",
              "      <td>35.545</td>\n",
              "      <td>35.475</td>\n",
              "      <td>35.540</td>\n",
              "      <td>11423</td>\n",
              "      <td>EUR</td>\n",
              "      <td>NaN</td>\n",
              "      <td>23/06/2020</td>\n",
              "    </tr>\n",
              "    <tr>\n",
              "      <th>...</th>\n",
              "      <td>...</td>\n",
              "      <td>...</td>\n",
              "      <td>...</td>\n",
              "      <td>...</td>\n",
              "      <td>...</td>\n",
              "      <td>...</td>\n",
              "      <td>...</td>\n",
              "      <td>...</td>\n",
              "      <td>...</td>\n",
              "    </tr>\n",
              "    <tr>\n",
              "      <th>17:26</th>\n",
              "      <td>23/06/2020</td>\n",
              "      <td>36.225</td>\n",
              "      <td>36.250</td>\n",
              "      <td>36.215</td>\n",
              "      <td>36.235</td>\n",
              "      <td>23199</td>\n",
              "      <td>EUR</td>\n",
              "      <td>NaN</td>\n",
              "      <td>23/06/2020</td>\n",
              "    </tr>\n",
              "    <tr>\n",
              "      <th>17:28</th>\n",
              "      <td>23/06/2020</td>\n",
              "      <td>36.245</td>\n",
              "      <td>36.245</td>\n",
              "      <td>36.190</td>\n",
              "      <td>36.235</td>\n",
              "      <td>39417</td>\n",
              "      <td>EUR</td>\n",
              "      <td>NaN</td>\n",
              "      <td>23/06/2020</td>\n",
              "    </tr>\n",
              "    <tr>\n",
              "      <th>17:30</th>\n",
              "      <td>23/06/2020</td>\n",
              "      <td>36.230</td>\n",
              "      <td>36.260</td>\n",
              "      <td>36.170</td>\n",
              "      <td>36.200</td>\n",
              "      <td>39694</td>\n",
              "      <td>EUR</td>\n",
              "      <td>NaN</td>\n",
              "      <td>23/06/2020</td>\n",
              "    </tr>\n",
              "    <tr>\n",
              "      <th>17:32</th>\n",
              "      <td>23/06/2020</td>\n",
              "      <td>36.230</td>\n",
              "      <td>36.260</td>\n",
              "      <td>36.170</td>\n",
              "      <td>36.200</td>\n",
              "      <td>39694</td>\n",
              "      <td>EUR</td>\n",
              "      <td>NaN</td>\n",
              "      <td>23/06/2020</td>\n",
              "    </tr>\n",
              "    <tr>\n",
              "      <th>17:34</th>\n",
              "      <td>23/06/2020</td>\n",
              "      <td>36.185</td>\n",
              "      <td>36.185</td>\n",
              "      <td>36.185</td>\n",
              "      <td>36.185</td>\n",
              "      <td>1709413</td>\n",
              "      <td>EUR</td>\n",
              "      <td>NaN</td>\n",
              "      <td>23/06/2020</td>\n",
              "    </tr>\n",
              "  </tbody>\n",
              "</table>\n",
              "<p>258 rows × 9 columns</p>\n",
              "</div>"
            ],
            "text/plain": [
              "             date     ouv    haut  ...  devise  Unnamed: 7        data\n",
              "temps                              ...                                \n",
              "09:00  23/06/2020  35.620  35.635  ...     EUR         NaN  23/06/2020\n",
              "09:02  23/06/2020  35.475  35.490  ...     EUR         NaN  23/06/2020\n",
              "09:04  23/06/2020  35.420  35.440  ...     EUR         NaN  23/06/2020\n",
              "09:06  23/06/2020  35.280  35.395  ...     EUR         NaN  23/06/2020\n",
              "09:08  23/06/2020  35.490  35.545  ...     EUR         NaN  23/06/2020\n",
              "...           ...     ...     ...  ...     ...         ...         ...\n",
              "17:26  23/06/2020  36.225  36.250  ...     EUR         NaN  23/06/2020\n",
              "17:28  23/06/2020  36.245  36.245  ...     EUR         NaN  23/06/2020\n",
              "17:30  23/06/2020  36.230  36.260  ...     EUR         NaN  23/06/2020\n",
              "17:32  23/06/2020  36.230  36.260  ...     EUR         NaN  23/06/2020\n",
              "17:34  23/06/2020  36.185  36.185  ...     EUR         NaN  23/06/2020\n",
              "\n",
              "[258 rows x 9 columns]"
            ]
          },
          "metadata": {
            "tags": []
          },
          "execution_count": 31
        }
      ]
    },
    {
      "cell_type": "code",
      "metadata": {
        "colab": {
          "base_uri": "https://localhost:8080/",
          "height": 265
        },
        "id": "eFBSBbRcm6aT",
        "outputId": "8ad4f149-a991-4004-f607-820ecc711356"
      },
      "source": [
        "plt.plot( dataen['bas'], dataen.index.values )\n",
        "plt.show()"
      ],
      "execution_count": null,
      "outputs": [
        {
          "output_type": "display_data",
          "data": {
            "image/png": "[encoded data removed]",
            "text/plain": [
              "<Figure size 432x288 with 1 Axes>"
            ]
          },
          "metadata": {
            "tags": [],
            "needs_background": "light"
          }
        }
      ]
    },
    {
      "cell_type": "code",
      "metadata": {
        "colab": {
          "base_uri": "https://localhost:8080/",
          "height": 293
        },
        "id": "vQ4pPxqNodgI",
        "outputId": "d41d156a-3b31-4eb0-bc2b-f121a9dd6144"
      },
      "source": [
        "plt.plot(dataen['vol'])"
      ],
      "execution_count": null,
      "outputs": [
        {
          "output_type": "execute_result",
          "data": {
            "text/plain": [
              "[<matplotlib.lines.Line2D at 0x7fdbf33b05c0>]"
            ]
          },
          "metadata": {
            "tags": []
          },
          "execution_count": 34
        },
        {
          "output_type": "display_data",
          "data": {
            "image/png": "[encoded data removed]",
            "text/plain": [
              "<Figure size 432x288 with 1 Axes>"
            ]
          },
          "metadata": {
            "tags": [],
            "needs_background": "light"
          }
        }
      ]
    }
  ]
}